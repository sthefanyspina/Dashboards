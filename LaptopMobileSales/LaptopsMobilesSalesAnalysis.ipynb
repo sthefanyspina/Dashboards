{
 "cells": [
  {
   "cell_type": "code",
   "execution_count": 1,
   "id": "6b784c84-127b-4580-86d6-6f05cfa8ca7f",
   "metadata": {},
   "outputs": [],
   "source": [
    "import pandas as pd\n",
    "import numpy as np"
   ]
  },
  {
   "cell_type": "code",
   "execution_count": 2,
   "id": "f88df62a-bdb1-4d5a-9318-1bbdd2ecb677",
   "metadata": {},
   "outputs": [],
   "source": [
    "df = pd.read_csv('mobile_sales_data.csv')"
   ]
  },
  {
   "cell_type": "code",
   "execution_count": 3,
   "id": "a8773534-7703-4e54-b30e-50cbb248f8b6",
   "metadata": {},
   "outputs": [
    {
     "data": {
      "text/html": [
       "<div>\n",
       "<style scoped>\n",
       "    .dataframe tbody tr th:only-of-type {\n",
       "        vertical-align: middle;\n",
       "    }\n",
       "\n",
       "    .dataframe tbody tr th {\n",
       "        vertical-align: top;\n",
       "    }\n",
       "\n",
       "    .dataframe thead th {\n",
       "        text-align: right;\n",
       "    }\n",
       "</style>\n",
       "<table border=\"1\" class=\"dataframe\">\n",
       "  <thead>\n",
       "    <tr style=\"text-align: right;\">\n",
       "      <th></th>\n",
       "      <th>Product</th>\n",
       "      <th>Brand</th>\n",
       "      <th>Product Code</th>\n",
       "      <th>Product Specification</th>\n",
       "      <th>Price</th>\n",
       "      <th>Inward Date</th>\n",
       "      <th>Dispatch Date</th>\n",
       "      <th>Quantity Sold</th>\n",
       "      <th>Customer Name</th>\n",
       "      <th>Customer Location</th>\n",
       "      <th>Region</th>\n",
       "      <th>Core Specification</th>\n",
       "      <th>Processor Specification</th>\n",
       "      <th>RAM</th>\n",
       "      <th>ROM</th>\n",
       "      <th>SSD</th>\n",
       "    </tr>\n",
       "  </thead>\n",
       "  <tbody>\n",
       "    <tr>\n",
       "      <th>0</th>\n",
       "      <td>Mobile Phone</td>\n",
       "      <td>Motorola</td>\n",
       "      <td>88EB4558</td>\n",
       "      <td>Site candidate activity company there bit insi...</td>\n",
       "      <td>78570</td>\n",
       "      <td>2023-08-02</td>\n",
       "      <td>2023-08-03</td>\n",
       "      <td>6</td>\n",
       "      <td>William Hess</td>\n",
       "      <td>South Kelsey</td>\n",
       "      <td>Central</td>\n",
       "      <td>NaN</td>\n",
       "      <td>Snapdragon 7 Gen</td>\n",
       "      <td>12GB</td>\n",
       "      <td>128GB</td>\n",
       "      <td>NaN</td>\n",
       "    </tr>\n",
       "    <tr>\n",
       "      <th>1</th>\n",
       "      <td>Laptop</td>\n",
       "      <td>Oppo</td>\n",
       "      <td>416DFEEB</td>\n",
       "      <td>Beat put care fight affect address his.</td>\n",
       "      <td>44613</td>\n",
       "      <td>2023-10-03</td>\n",
       "      <td>2023-10-06</td>\n",
       "      <td>1</td>\n",
       "      <td>Larry Smith</td>\n",
       "      <td>North Lisa</td>\n",
       "      <td>South</td>\n",
       "      <td>Ryzen 5</td>\n",
       "      <td>Ryzen 5</td>\n",
       "      <td>8GB</td>\n",
       "      <td>512GB</td>\n",
       "      <td>256GB</td>\n",
       "    </tr>\n",
       "    <tr>\n",
       "      <th>2</th>\n",
       "      <td>Mobile Phone</td>\n",
       "      <td>Samsung</td>\n",
       "      <td>9F975B08</td>\n",
       "      <td>Energy special low seven place audience.</td>\n",
       "      <td>159826</td>\n",
       "      <td>2025-03-19</td>\n",
       "      <td>2025-03-20</td>\n",
       "      <td>5</td>\n",
       "      <td>Leah Copeland</td>\n",
       "      <td>South Todd</td>\n",
       "      <td>Central</td>\n",
       "      <td>NaN</td>\n",
       "      <td>MediaTek Dimensity</td>\n",
       "      <td>8GB</td>\n",
       "      <td>256GB</td>\n",
       "      <td>NaN</td>\n",
       "    </tr>\n",
       "    <tr>\n",
       "      <th>3</th>\n",
       "      <td>Laptop</td>\n",
       "      <td>Sony</td>\n",
       "      <td>73D2A7CC</td>\n",
       "      <td>Friend record hard contain minute we role sea ...</td>\n",
       "      <td>20911</td>\n",
       "      <td>2024-02-06</td>\n",
       "      <td>2024-03-27</td>\n",
       "      <td>1</td>\n",
       "      <td>Dan Kirby</td>\n",
       "      <td>New Jordanmouth</td>\n",
       "      <td>South</td>\n",
       "      <td>i7</td>\n",
       "      <td>i7</td>\n",
       "      <td>12GB</td>\n",
       "      <td>64GB</td>\n",
       "      <td>2TB</td>\n",
       "    </tr>\n",
       "    <tr>\n",
       "      <th>4</th>\n",
       "      <td>Laptop</td>\n",
       "      <td>Microsoft</td>\n",
       "      <td>CCE0B80D</td>\n",
       "      <td>Program recently feeling save tree hotel people.</td>\n",
       "      <td>69832</td>\n",
       "      <td>2023-08-10</td>\n",
       "      <td>2023-09-10</td>\n",
       "      <td>4</td>\n",
       "      <td>Dean Martin</td>\n",
       "      <td>Keithton</td>\n",
       "      <td>East</td>\n",
       "      <td>i7</td>\n",
       "      <td>i7</td>\n",
       "      <td>8GB</td>\n",
       "      <td>128GB</td>\n",
       "      <td>2TB</td>\n",
       "    </tr>\n",
       "  </tbody>\n",
       "</table>\n",
       "</div>"
      ],
      "text/plain": [
       "        Product      Brand Product Code  \\\n",
       "0  Mobile Phone   Motorola     88EB4558   \n",
       "1        Laptop       Oppo     416DFEEB   \n",
       "2  Mobile Phone    Samsung     9F975B08   \n",
       "3        Laptop       Sony     73D2A7CC   \n",
       "4        Laptop  Microsoft     CCE0B80D   \n",
       "\n",
       "                               Product Specification   Price Inward Date  \\\n",
       "0  Site candidate activity company there bit insi...   78570  2023-08-02   \n",
       "1            Beat put care fight affect address his.   44613  2023-10-03   \n",
       "2           Energy special low seven place audience.  159826  2025-03-19   \n",
       "3  Friend record hard contain minute we role sea ...   20911  2024-02-06   \n",
       "4   Program recently feeling save tree hotel people.   69832  2023-08-10   \n",
       "\n",
       "  Dispatch Date  Quantity Sold  Customer Name Customer Location   Region  \\\n",
       "0    2023-08-03              6   William Hess      South Kelsey  Central   \n",
       "1    2023-10-06              1    Larry Smith        North Lisa    South   \n",
       "2    2025-03-20              5  Leah Copeland        South Todd  Central   \n",
       "3    2024-03-27              1      Dan Kirby   New Jordanmouth    South   \n",
       "4    2023-09-10              4    Dean Martin          Keithton     East   \n",
       "\n",
       "  Core Specification Processor Specification   RAM    ROM    SSD  \n",
       "0                NaN        Snapdragon 7 Gen  12GB  128GB    NaN  \n",
       "1            Ryzen 5                 Ryzen 5   8GB  512GB  256GB  \n",
       "2                NaN      MediaTek Dimensity   8GB  256GB    NaN  \n",
       "3                 i7                      i7  12GB   64GB    2TB  \n",
       "4                 i7                      i7   8GB  128GB    2TB  "
      ]
     },
     "execution_count": 3,
     "metadata": {},
     "output_type": "execute_result"
    }
   ],
   "source": [
    "df.head()"
   ]
  },
  {
   "cell_type": "code",
   "execution_count": 4,
   "id": "4a8aac9e-e1a0-4acf-87c7-697405638589",
   "metadata": {},
   "outputs": [
    {
     "name": "stdout",
     "output_type": "stream",
     "text": [
      "<class 'pandas.core.frame.DataFrame'>\n",
      "RangeIndex: 50000 entries, 0 to 49999\n",
      "Data columns (total 16 columns):\n",
      " #   Column                   Non-Null Count  Dtype \n",
      "---  ------                   --------------  ----- \n",
      " 0   Product                  50000 non-null  object\n",
      " 1   Brand                    50000 non-null  object\n",
      " 2   Product Code             50000 non-null  object\n",
      " 3   Product Specification    50000 non-null  object\n",
      " 4   Price                    50000 non-null  int64 \n",
      " 5   Inward Date              50000 non-null  object\n",
      " 6   Dispatch Date            50000 non-null  object\n",
      " 7   Quantity Sold            50000 non-null  int64 \n",
      " 8   Customer Name            50000 non-null  object\n",
      " 9   Customer Location        50000 non-null  object\n",
      " 10  Region                   50000 non-null  object\n",
      " 11  Core Specification       25017 non-null  object\n",
      " 12  Processor Specification  50000 non-null  object\n",
      " 13  RAM                      50000 non-null  object\n",
      " 14  ROM                      50000 non-null  object\n",
      " 15  SSD                      25017 non-null  object\n",
      "dtypes: int64(2), object(14)\n",
      "memory usage: 6.1+ MB\n"
     ]
    }
   ],
   "source": [
    "df.info()"
   ]
  },
  {
   "cell_type": "code",
   "execution_count": 5,
   "id": "909218f4-71b9-4b58-b2e8-5e2d3a9ad684",
   "metadata": {},
   "outputs": [
    {
     "data": {
      "text/html": [
       "<div>\n",
       "<style scoped>\n",
       "    .dataframe tbody tr th:only-of-type {\n",
       "        vertical-align: middle;\n",
       "    }\n",
       "\n",
       "    .dataframe tbody tr th {\n",
       "        vertical-align: top;\n",
       "    }\n",
       "\n",
       "    .dataframe thead th {\n",
       "        text-align: right;\n",
       "    }\n",
       "</style>\n",
       "<table border=\"1\" class=\"dataframe\">\n",
       "  <thead>\n",
       "    <tr style=\"text-align: right;\">\n",
       "      <th></th>\n",
       "      <th>Price</th>\n",
       "      <th>Quantity Sold</th>\n",
       "    </tr>\n",
       "  </thead>\n",
       "  <tbody>\n",
       "    <tr>\n",
       "      <th>count</th>\n",
       "      <td>50000.000000</td>\n",
       "      <td>50000.00000</td>\n",
       "    </tr>\n",
       "    <tr>\n",
       "      <th>mean</th>\n",
       "      <td>102641.407080</td>\n",
       "      <td>5.51378</td>\n",
       "    </tr>\n",
       "    <tr>\n",
       "      <th>std</th>\n",
       "      <td>56363.550361</td>\n",
       "      <td>2.88101</td>\n",
       "    </tr>\n",
       "    <tr>\n",
       "      <th>min</th>\n",
       "      <td>5008.000000</td>\n",
       "      <td>1.00000</td>\n",
       "    </tr>\n",
       "    <tr>\n",
       "      <th>25%</th>\n",
       "      <td>53487.000000</td>\n",
       "      <td>3.00000</td>\n",
       "    </tr>\n",
       "    <tr>\n",
       "      <th>50%</th>\n",
       "      <td>103072.000000</td>\n",
       "      <td>6.00000</td>\n",
       "    </tr>\n",
       "    <tr>\n",
       "      <th>75%</th>\n",
       "      <td>151396.250000</td>\n",
       "      <td>8.00000</td>\n",
       "    </tr>\n",
       "    <tr>\n",
       "      <th>max</th>\n",
       "      <td>199999.000000</td>\n",
       "      <td>10.00000</td>\n",
       "    </tr>\n",
       "  </tbody>\n",
       "</table>\n",
       "</div>"
      ],
      "text/plain": [
       "               Price  Quantity Sold\n",
       "count   50000.000000    50000.00000\n",
       "mean   102641.407080        5.51378\n",
       "std     56363.550361        2.88101\n",
       "min      5008.000000        1.00000\n",
       "25%     53487.000000        3.00000\n",
       "50%    103072.000000        6.00000\n",
       "75%    151396.250000        8.00000\n",
       "max    199999.000000       10.00000"
      ]
     },
     "execution_count": 5,
     "metadata": {},
     "output_type": "execute_result"
    }
   ],
   "source": [
    "df.describe()"
   ]
  },
  {
   "cell_type": "code",
   "execution_count": 6,
   "id": "9f5fff86-293f-4f9f-a6ea-22f329e5c9aa",
   "metadata": {},
   "outputs": [
    {
     "name": "stdout",
     "output_type": "stream",
     "text": [
      "Product                        0\n",
      "Brand                          0\n",
      "Product Code                   0\n",
      "Product Specification          0\n",
      "Price                          0\n",
      "Inward Date                    0\n",
      "Dispatch Date                  0\n",
      "Quantity Sold                  0\n",
      "Customer Name                  0\n",
      "Customer Location              0\n",
      "Region                         0\n",
      "Core Specification         24983\n",
      "Processor Specification        0\n",
      "RAM                            0\n",
      "ROM                            0\n",
      "SSD                        24983\n",
      "dtype: int64\n"
     ]
    }
   ],
   "source": [
    "print(df.isnull().sum())"
   ]
  },
  {
   "cell_type": "code",
   "execution_count": 7,
   "id": "4a872aff-3b68-41fc-8726-fa79d251d613",
   "metadata": {},
   "outputs": [],
   "source": [
    "df.replace('', np.nan, inplace=True)"
   ]
  },
  {
   "cell_type": "code",
   "execution_count": 8,
   "id": "008bb466-734c-4339-a392-bb6ecfcd83f9",
   "metadata": {},
   "outputs": [],
   "source": [
    "df = df.dropna()"
   ]
  },
  {
   "cell_type": "code",
   "execution_count": null,
   "id": "74d87a68-4189-4e33-8474-f0db0f9e8846",
   "metadata": {},
   "outputs": [],
   "source": [
    "df.drop(df[df['SSD'] == \"N/A\"].index, inplace = True)"
   ]
  },
  {
   "cell_type": "code",
   "execution_count": 9,
   "id": "0fb1833d-1e92-4567-bb41-6c7350045e2f",
   "metadata": {},
   "outputs": [],
   "source": [
    "df.drop(df[df['Core Specification'] == \"N/A\"].index, inplace = True)"
   ]
  },
  {
   "cell_type": "code",
   "execution_count": 10,
   "id": "d410d5ee-64ee-44b5-865a-b1f490bf22fb",
   "metadata": {},
   "outputs": [
    {
     "name": "stdout",
     "output_type": "stream",
     "text": [
      "<class 'pandas.core.frame.DataFrame'>\n",
      "Index: 25017 entries, 1 to 49999\n",
      "Data columns (total 16 columns):\n",
      " #   Column                   Non-Null Count  Dtype \n",
      "---  ------                   --------------  ----- \n",
      " 0   Product                  25017 non-null  object\n",
      " 1   Brand                    25017 non-null  object\n",
      " 2   Product Code             25017 non-null  object\n",
      " 3   Product Specification    25017 non-null  object\n",
      " 4   Price                    25017 non-null  int64 \n",
      " 5   Inward Date              25017 non-null  object\n",
      " 6   Dispatch Date            25017 non-null  object\n",
      " 7   Quantity Sold            25017 non-null  int64 \n",
      " 8   Customer Name            25017 non-null  object\n",
      " 9   Customer Location        25017 non-null  object\n",
      " 10  Region                   25017 non-null  object\n",
      " 11  Core Specification       25017 non-null  object\n",
      " 12  Processor Specification  25017 non-null  object\n",
      " 13  RAM                      25017 non-null  object\n",
      " 14  ROM                      25017 non-null  object\n",
      " 15  SSD                      25017 non-null  object\n",
      "dtypes: int64(2), object(14)\n",
      "memory usage: 3.2+ MB\n"
     ]
    }
   ],
   "source": [
    "df.info()"
   ]
  },
  {
   "cell_type": "code",
   "execution_count": 11,
   "id": "795e4f33-db45-40ab-8336-e89d26ecc867",
   "metadata": {},
   "outputs": [
    {
     "name": "stdout",
     "output_type": "stream",
     "text": [
      "Product                    object\n",
      "Brand                      object\n",
      "Product Code               object\n",
      "Product Specification      object\n",
      "Price                       int64\n",
      "Inward Date                object\n",
      "Dispatch Date              object\n",
      "Quantity Sold               int64\n",
      "Customer Name              object\n",
      "Customer Location          object\n",
      "Region                     object\n",
      "Core Specification         object\n",
      "Processor Specification    object\n",
      "RAM                        object\n",
      "ROM                        object\n",
      "SSD                        object\n",
      "dtype: object\n"
     ]
    }
   ],
   "source": [
    "print(df.dtypes)"
   ]
  },
  {
   "cell_type": "code",
   "execution_count": 12,
   "id": "78e6a332-f735-4531-adeb-4af89f112031",
   "metadata": {},
   "outputs": [],
   "source": [
    "df.to_csv(\"mobile_sales_data2.csv\", index=False)"
   ]
  },
  {
   "cell_type": "code",
   "execution_count": null,
   "id": "d8883c63-6f4a-4050-8650-e842c85250d4",
   "metadata": {},
   "outputs": [],
   "source": []
  }
 ],
 "metadata": {
  "kernelspec": {
   "display_name": "Python 3 (ipykernel)",
   "language": "python",
   "name": "python3"
  },
  "language_info": {
   "codemirror_mode": {
    "name": "ipython",
    "version": 3
   },
   "file_extension": ".py",
   "mimetype": "text/x-python",
   "name": "python",
   "nbconvert_exporter": "python",
   "pygments_lexer": "ipython3",
   "version": "3.13.2"
  }
 },
 "nbformat": 4,
 "nbformat_minor": 5
}
